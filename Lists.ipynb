{
 "cells": [
  {
   "cell_type": "code",
   "execution_count": 3,
   "metadata": {},
   "outputs": [
    {
     "name": "stdout",
     "output_type": "stream",
     "text": [
      "index of 30 : 3\n",
      "Final list : [10, 15, 20, 30, 40, 50, 60]\n"
     ]
    }
   ],
   "source": [
    "# create an empty list called my list\n",
    "my_list = []\n",
    "\n",
    "#append the elements 10, 20, 30,40 to my_list\n",
    "my_list.append(10)\n",
    "my_list.append(20)\n",
    "my_list.append(30)\n",
    "my_list.append(40)\n",
    "\n",
    "#insert value 15 at second position\n",
    "my_list.insert(1,15)\n",
    "\n",
    "#extend my_list with another list [50,60,70]\n",
    "my_list.extend([50,60,70])\n",
    "\n",
    "#remove the last element from my_list\n",
    "my_list.pop()\n",
    "\n",
    "#sort my_list in ascending order\n",
    "my_list.sort()\n",
    "\n",
    "#find and print index of value 30\n",
    "index_30 = my_list.index(30)\n",
    "print('index of 30 :', index_30)\n",
    "\n",
    "#output the final list\n",
    "print('Final list :', my_list)"
   ]
  }
 ],
 "metadata": {
  "kernelspec": {
   "display_name": "Python 3",
   "language": "python",
   "name": "python3"
  },
  "language_info": {
   "codemirror_mode": {
    "name": "ipython",
    "version": 3
   },
   "file_extension": ".py",
   "mimetype": "text/x-python",
   "name": "python",
   "nbconvert_exporter": "python",
   "pygments_lexer": "ipython3",
   "version": "3.10.12"
  }
 },
 "nbformat": 4,
 "nbformat_minor": 2
}
