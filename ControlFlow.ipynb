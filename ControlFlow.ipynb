{
 "cells": [
  {
   "cell_type": "code",
   "execution_count": 10,
   "metadata": {},
   "outputs": [
    {
     "name": "stdout",
     "output_type": "stream",
     "text": [
      "No discount applied. Original price remains : $100.00\n"
     ]
    }
   ],
   "source": [
    "def calculate_discount(price, discount_percent):\n",
    "#calculate final price after discount\n",
    "  if discount_percent  >= 20:\n",
    "   return price -(price*discount_percent / 100)\n",
    "  else:\n",
    "   return price \n",
    " # user input for original price and % discount\n",
    "try:\n",
    "  original_price = float(input(\"Enter original price of item : \"))\n",
    "  discount_percentage = float(input(\"Enter the percentage discount : \"))\n",
    "\n",
    "  #calculate final price\n",
    "  final_price = calculate_discount(original_price, discount_percentage)\n",
    "\n",
    "  # show the result\n",
    "  if final_price < original_price:\n",
    "    print(f\"Final price after discount is : ${final_price:.2f}\")\n",
    "  else :\n",
    "    print(f\"No discount applied. Original price remains : ${original_price :.2f}\")\n",
    "except ValueError:\n",
    "    print(\"Invalid input. Pls enter numerals for price and discount percentage\")\n",
    " "
   ]
  }
 ],
 "metadata": {
  "kernelspec": {
   "display_name": "Python 3",
   "language": "python",
   "name": "python3"
  },
  "language_info": {
   "codemirror_mode": {
    "name": "ipython",
    "version": 3
   },
   "file_extension": ".py",
   "mimetype": "text/x-python",
   "name": "python",
   "nbconvert_exporter": "python",
   "pygments_lexer": "ipython3",
   "version": "3.10.12"
  }
 },
 "nbformat": 4,
 "nbformat_minor": 2
}
