{
 "cells": [
  {
   "cell_type": "code",
   "execution_count": 5,
   "metadata": {},
   "outputs": [
    {
     "name": "stdout",
     "output_type": "stream",
     "text": [
      "Original Content : \n",
      "learning python at plp at fun and interesting\n",
      "\n",
      " Modified content writen to <_io.TextIOWrapper name='output.txt' mode='w' encoding='UTF-8'>\n"
     ]
    }
   ],
   "source": [
    "def modify_file(input_filename, output_filename):\n",
    "  try :\n",
    "    #attempt to open file for reading\n",
    "    with open(input_filename, 'r') as input_file:\n",
    "     content = input_file.read()\n",
    "     print(\"Original Content : \")\n",
    "     print(content)\n",
    "    #modify file contents\n",
    "    modified_content = content.upper()\n",
    "    #write modified contenet to new file\n",
    "    with open(output_filename, 'w') as output_file:\n",
    "        output_file.write(modified_content)\n",
    "        print(f\"\\n Modified content writen to {output_file}\")\n",
    "  except FileNotFoundError:\n",
    "    print(f\"Error : THe file {input_file} does not exist\")\n",
    "  except PermissionError:\n",
    "    print(f\"Error : Permision denied to read or write the file.\")\n",
    "  except Exception as e :\n",
    "    print(f\"Unexpected error occured : {e}\")\n",
    "\n",
    "def main():\n",
    "    #get file names from user\n",
    "    input_file = input(\"Enter file name to be read :\")\n",
    "    output_file = input(\"Enter file name to write :\")\n",
    "    #invoke the function to process the files\n",
    "    modify_file(input_file, output_file)\n",
    "\n",
    "#call main\n",
    "if __name__ == \"__main__\":\n",
    "  main()\n",
    "\n",
    "\n",
    "\n"
   ]
  }
 ],
 "metadata": {
  "kernelspec": {
   "display_name": "Python 3",
   "language": "python",
   "name": "python3"
  },
  "language_info": {
   "codemirror_mode": {
    "name": "ipython",
    "version": 3
   },
   "file_extension": ".py",
   "mimetype": "text/x-python",
   "name": "python",
   "nbconvert_exporter": "python",
   "pygments_lexer": "ipython3",
   "version": "3.10.12"
  }
 },
 "nbformat": 4,
 "nbformat_minor": 2
}
